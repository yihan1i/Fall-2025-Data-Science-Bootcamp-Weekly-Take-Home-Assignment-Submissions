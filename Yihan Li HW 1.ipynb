{
 "cells": [
  {
   "cell_type": "code",
   "execution_count": 39,
   "id": "20cf1a4a-0117-4b2b-b557-5a2c67ac4747",
   "metadata": {},
   "outputs": [],
   "source": [
    "#Write a program that takes a word as an input and print the number of vowels in the word.\n",
    "#Iterate through the following list of animals and print each one in all caps.\n",
    "#animals=['tiger', 'elephant', 'monkey', 'zebra', 'panther']\n",
    "\n",
    "#Write a program that iterates from 1 to 20, printing each number and whether it's odd or even.\n",
    "#Write a program to check if a string is a palindrome or not.\n",
    "#Write a function sum_of_integers(a, b) that takes two integers as input from the user and returns their sum.\n",
    "       \n",
    "        "
   ]
  },
  {
   "cell_type": "code",
   "execution_count": 40,
   "id": "7c22dd6c-579a-46a1-99bb-a5567dbc14ff",
   "metadata": {},
   "outputs": [
    {
     "name": "stdout",
     "output_type": "stream",
     "text": [
      "There are 4 vowels in adieu .\n"
     ]
    }
   ],
   "source": [
    "def vowels(word):\n",
    "    i = 0\n",
    "    for char in word:\n",
    "        if char in \"aeiou\":\n",
    "            i= i + 1\n",
    "    print(\"There are\",i, \"vowels in\", word, \".\")\n",
    "\n",
    "vowels('adieu')"
   ]
  },
  {
   "cell_type": "code",
   "execution_count": 19,
   "id": "c68324bb-dfcb-44ec-84ed-015757088345",
   "metadata": {},
   "outputs": [
    {
     "name": "stdout",
     "output_type": "stream",
     "text": [
      "Tiger\n",
      "Elephant\n",
      "Monkey\n",
      "Zebra\n",
      "Panther\n"
     ]
    }
   ],
   "source": [
    "animals=['tiger', 'elephant', 'monkey', 'zebra', 'panther']\n",
    "for i in animals:\n",
    "    print (i.capitalize())\n",
    "    "
   ]
  },
  {
   "cell_type": "code",
   "execution_count": 26,
   "id": "9c8c60b1-74bd-43ad-bb7e-d137d46dae1f",
   "metadata": {},
   "outputs": [
    {
     "name": "stdout",
     "output_type": "stream",
     "text": [
      "1 odd\n",
      "2 even\n",
      "3 odd\n",
      "4 even\n",
      "5 odd\n",
      "6 even\n",
      "7 odd\n",
      "8 even\n",
      "9 odd\n",
      "10 even\n",
      "11 odd\n",
      "12 even\n",
      "13 odd\n",
      "14 even\n",
      "15 odd\n",
      "16 even\n",
      "17 odd\n",
      "18 even\n",
      "19 odd\n",
      "20 even\n"
     ]
    }
   ],
   "source": [
    "l= list(range(21))\n",
    "for i in l[1:21]:\n",
    "    if i % 2 == 0:\n",
    "        print( i, \"even\")\n",
    "    else:\n",
    "        print (i, \"odd\")"
   ]
  },
  {
   "cell_type": "code",
   "execution_count": 37,
   "id": "25d5e788-ab6d-4f42-929d-792d94cb219a",
   "metadata": {},
   "outputs": [
    {
     "name": "stdin",
     "output_type": "stream",
     "text": [
      "give a word: racecar\n"
     ]
    },
    {
     "name": "stdout",
     "output_type": "stream",
     "text": [
      "racecar is a palindrome!\n"
     ]
    }
   ],
   "source": [
    "def is_palindrome():\n",
    "    text = input(\"give a word:\")\n",
    "    if text == text[::-1]:\n",
    "        print(text, \"is a palindrome!\")\n",
    "    else:\n",
    "        print(text, \"is not a palindrome.\")\n",
    "        \n",
    "is_palindrome()"
   ]
  },
  {
   "cell_type": "code",
   "execution_count": 38,
   "id": "7eb463e9-afb9-4b1c-b7f6-2033134fb36c",
   "metadata": {},
   "outputs": [
    {
     "name": "stdin",
     "output_type": "stream",
     "text": [
      "enter your first interger: 2\n",
      "enter your second interger: 3\n"
     ]
    },
    {
     "name": "stdout",
     "output_type": "stream",
     "text": [
      "the sum is 5\n"
     ]
    }
   ],
   "source": [
    "def sum_of_integers():\n",
    "    a = int(input(\"enter your first interger:\"))\n",
    "    b = int(input(\"enter your second interger:\"))\n",
    "    c = a + b\n",
    "    print (\"the sum is\", c)\n",
    "sum_of_integers()"
   ]
  },
  {
   "cell_type": "code",
   "execution_count": null,
   "id": "e112a6f5-e103-48c7-af27-0a30eb508510",
   "metadata": {},
   "outputs": [],
   "source": []
  }
 ],
 "metadata": {
  "kernelspec": {
   "display_name": "Python 3 (ipykernel)",
   "language": "python",
   "name": "python3"
  },
  "language_info": {
   "codemirror_mode": {
    "name": "ipython",
    "version": 3
   },
   "file_extension": ".py",
   "mimetype": "text/x-python",
   "name": "python",
   "nbconvert_exporter": "python",
   "pygments_lexer": "ipython3",
   "version": "3.13.5"
  }
 },
 "nbformat": 4,
 "nbformat_minor": 5
}
